{
 "cells": [
  {
   "cell_type": "markdown",
   "metadata": {},
   "source": [
    "# InterTwin 4th Technical Meeting\n",
    "\n",
    "13/06/2024, Vienna, AT\n",
    "\n",
    "### WP6: Example CWL workflow execution\n",
    "\n",
    "This notebook demonstrates how to execute a CWL workflow using the `cwltool` command line tool. The notebook showcases all of the different parts which make up the OGC Application Package to execute a CWL workflow.\n",
    "\n",
    "This notebook is showcasing the drought forecasting use case from the InterTwin project. This Application Package is based on `HydroMT` developed by Deltares.\n",
    "\n",
    "#### Table of Contents\n",
    "\n",
    "1. [Section 1: Dependencies](#section-1-dependencies)\n",
    "2. [Section 2: Dockerfile](#section-2-packaging-necessary-files)\n",
    "3. [Section 3: OGC Application Package](#section-3-ogc-application-package)"
   ]
  },
  {
   "cell_type": "markdown",
   "metadata": {},
   "source": [
    "#### Section 1: Dependencies\n",
    "\n",
    "Local development and  execution specific dependencies:\n",
    "\n",
    "- `cwltool` - A reference implementation of the Common Workflow Language.\n",
    "- `docker` - A tool designed to make it easier to create, deploy, and run applications by using containers.\n",
    "- `conda` - An open-source package management system and environment management system that runs on Windows, macOS, and Linux.\n",
    "\n",
    "Clone this repository:\n",
    "\n",
    "```bash\n",
    "git clone https://github.com/jzvolensky/Itwin-tech-meeting.git\n",
    "```\n",
    "\n",
    "Install the conda environment:\n",
    "\n",
    "```bash\n",
    "conda env create -f environment.yml\n",
    "```\n",
    "\n",
    "Activate the conda environment:\n",
    "\n",
    "```bash\n",
    "conda activate itwin-tech-meeting\n",
    "```\n"
   ]
  },
  {
   "cell_type": "markdown",
   "metadata": {},
   "source": [
    "#### Section 2: Packaging Necessary files\n",
    "\n",
    "There are several files which we need to include in our Docker image so that during the execution of the CWL workflow, the necessary files are available. These can be found in the `/example` directory.\n",
    "\n",
    "\n",
    "`data_catalog.yaml` - This file contains the metadata for the input data files. This file is used by the `HydroMT` package to read the input data files.\n",
    "`wflow.ini` - Configuration file for the `HydroMT` package.\n",
    "`requirements.txt` - Python package requirements for the `HydroMT` package.\n",
    "`build.sh` - A shell script to build the `HydroMT` model.\n",
    "`config_gen.py` - A Python script to generate the configuration file for the `HydroMT` model based on workflow inputs.\n",
    "\n",
    "Docker Image Structure:\n",
    "\n",
    "```bash\n",
    "/hydromt\n",
    "    /requirements.txt\n",
    "    /wflow.ini\n",
    "    /data_catalog.yaml\n",
    "    /config_gen.py\n",
    "    /output/\n",
    "    /data/\n",
    "```\n",
    "\n",
    "The resulting Docker image is published on DockerHub.\n",
    "\n",
    "If you want to build and publish it yourself, you can use the following command:\n",
    "\n",
    "```bash\n",
    "docker login\n",
    "docker build -t image_name .\n",
    "docker tag image_name username/image_name:tag\n",
    "docker push username/image_name:tag\n",
    "```\n",
    "\n"
   ]
  },
  {
   "cell_type": "code",
   "execution_count": null,
   "metadata": {},
   "outputs": [],
   "source": [
    "!docker login"
   ]
  },
  {
   "cell_type": "code",
   "execution_count": null,
   "metadata": {},
   "outputs": [],
   "source": [
    "!docker build -t hydromt . "
   ]
  },
  {
   "cell_type": "code",
   "execution_count": null,
   "metadata": {},
   "outputs": [],
   "source": [
    "!docker tag hydromt:latest potato55/hydromt:vienna"
   ]
  },
  {
   "cell_type": "code",
   "execution_count": null,
   "metadata": {},
   "outputs": [],
   "source": [
    "!docker push potato55/hydromt:vienna"
   ]
  },
  {
   "cell_type": "markdown",
   "metadata": {},
   "source": [
    "#### Section 3: OGC Application Package\n",
    "\n",
    "In the `/example/cwl` directory, you will find the CWL workflows necessary to execute `HydroMT`. The directory contains three files:\n",
    "\n",
    "`hydromt-build.cwl` - This CWL workflow builds the `HydroMT` model.\n",
    "`update_config.cwl` - This is a subworkflow which updates the configuration file for the `HydroMT` model before it is built.\n",
    "`params.yaml` - This file contains the input parameters for the CWL workflow.\n",
    "\n",
    "To execute the CWL workflow, you can use the following command:\n",
    "\n",
    "```bash\n",
    "cwltool --verbose --force-docker-pull --no-read-only --outdir ./hydromt-output hydromt-build.cwl#hydromt-build params.yaml\n",
    "```\n",
    "\n",
    "There are several flags which are used in the command:\n",
    "\n",
    "- `--verbose` - This flag outputs more information about the execution of the CWL workflow.\n",
    "- `--force-docker-pull` - This flag forces the Docker image to be pulled from the DockerHub repository. (This is not always necessary, we just want the latest version).\n",
    "- `--no-read-only` - This flag ensures that the Docker container is not read-only (Although this is not always the case).\n",
    "- `--outdir` - This flag specifies the output directory for the CWL workflow on our local machine.\n",
    "\n",
    "The CWL is also defined as `hydromt-build.cwl#hydromt-build` which specifies the CWL workflow to execute. The `params.yaml` file contains the input parameters for the CWL workflow.\n",
    "\n",
    "Try it out below!"
   ]
  },
  {
   "cell_type": "code",
   "execution_count": 3,
   "metadata": {
    "vscode": {
     "languageId": "shellscript"
    }
   },
   "outputs": [
    {
     "name": "stdout",
     "output_type": "stream",
     "text": [
      "\u001b[1;30mINFO\u001b[0m /Users/jzvolensky/projects/EURAC/Itwin-tech-meeting/.venv/bin/cwltool 3.1.20240508115724\n",
      "\u001b[1;30mINFO\u001b[0m Resolved './example/hydromt/cwl/hydromt-build-workflow.cwl#hydromt-workflow' to 'file:///Users/jzvolensky/projects/EURAC/Itwin-tech-meeting/example/hydromt/cwl/hydromt-build-workflow.cwl#hydromt-workflow'\n",
      "\u001b[1;30mINFO\u001b[0m [workflow ] start\n",
      "\u001b[1;30mINFO\u001b[0m [workflow ] starting step update-config\n",
      "\u001b[1;30mINFO\u001b[0m [step update-config] start\n",
      "Error: No such object: potato55/hydromt:vienna\n",
      "\u001b[1;30mINFO\u001b[0m ['docker', 'pull', 'potato55/hydromt:vienna']\n",
      "vienna: Pulling from potato55/hydromt\n",
      "\n",
      "\u001b[1Bef4019fc: Pulling fs layer \n",
      "\u001b[1Bbf643eb6: Pulling fs layer \n",
      "\u001b[1B7c2b46ab: Pulling fs layer \n",
      "\u001b[1B113e1c69: Pulling fs layer \n",
      "\u001b[1B0b3f4e8d: Pulling fs layer \n",
      "\u001b[1B915ba47b: Pulling fs layer \n",
      "\u001b[1Bb9fd2cb2: Pulling fs layer \n",
      "\u001b[1B9ba084ec: Pulling fs layer \n",
      "\u001b[1B022985fc: Pulling fs layer \n",
      "\u001b[1B6af7ae9d: Pulling fs layer \n",
      "\u001b[1B8b67330a: Pulling fs layer \n",
      "\u001b[1Bc6de0e2a: Pulling fs layer \n",
      "\u001b[1B643e84f7: Pulling fs layer \n",
      "\u001b[1B2e6e6a45: Pulling fs layer \n",
      "\u001b[1B3b60ddf2: Pulling fs layer \n",
      "\u001b[1B333ea322: Pulling fs layer \n",
      "\u001b[1Bde42b4aa: Pulling fs layer \n",
      "\u001b[1BDigest: sha256:6771b1cd17e977210c5558e22d86d79df80169e9138f1bf495f253063922d7bd\u001b[2K\u001b[18A\u001b[2K\u001b[16A\u001b[2K\u001b[18A\u001b[2K\u001b[17A\u001b[2K\u001b[16A\u001b[2K\u001b[17A\u001b[2K\u001b[16A\u001b[2K\u001b[16A\u001b[2K\u001b[17A\u001b[2K\u001b[17A\u001b[2K\u001b[18A\u001b[2K\u001b[17A\u001b[2K\u001b[16A\u001b[2K\u001b[18A\u001b[2K\u001b[17A\u001b[2K\u001b[16A\u001b[2K\u001b[17A\u001b[2K\u001b[16A\u001b[2K\u001b[18A\u001b[2K\u001b[16A\u001b[2K\u001b[17A\u001b[2K\u001b[18A\u001b[2K\u001b[16A\u001b[2K\u001b[18A\u001b[2K\u001b[16A\u001b[2K\u001b[18A\u001b[2K\u001b[16A\u001b[2K\u001b[18A\u001b[2K\u001b[16A\u001b[2K\u001b[18A\u001b[2K\u001b[16A\u001b[2K\u001b[18A\u001b[2K\u001b[15A\u001b[2K\u001b[18A\u001b[2K\u001b[16A\u001b[2K\u001b[15A\u001b[2K\u001b[16A\u001b[2K\u001b[18A\u001b[2K\u001b[15A\u001b[2K\u001b[16A\u001b[2K\u001b[18A\u001b[2K\u001b[18A\u001b[2K\u001b[15A\u001b[2K\u001b[18A\u001b[2K\u001b[16A\u001b[2K\u001b[15A\u001b[2K\u001b[15A\u001b[2K\u001b[18A\u001b[2K\u001b[15A\u001b[2K\u001b[18A\u001b[2K\u001b[15A\u001b[2K\u001b[15A\u001b[2K\u001b[18A\u001b[2K\u001b[16A\u001b[2K\u001b[15A\u001b[2K\u001b[18A\u001b[2K\u001b[16A\u001b[2K\u001b[18A\u001b[2K\u001b[15A\u001b[2K\u001b[18A\u001b[2K\u001b[16A\u001b[2K\u001b[18A\u001b[2K\u001b[15A\u001b[2K\u001b[18A\u001b[2K\u001b[16A\u001b[2K\u001b[15A\u001b[2K\u001b[15A\u001b[2K\u001b[16A\u001b[2K\u001b[18A\u001b[2K\u001b[15A\u001b[2K\u001b[18A\u001b[2K\u001b[15A\u001b[2K\u001b[18A\u001b[2K\u001b[15A\u001b[2K\u001b[15A\u001b[2K\u001b[16A\u001b[2K\u001b[15A\u001b[2K\u001b[18A\u001b[2K\u001b[15A\u001b[2K\u001b[16A\u001b[2K\u001b[15A\u001b[2K\u001b[16A\u001b[2K\u001b[18A\u001b[2K\u001b[15A\u001b[2K\u001b[15A\u001b[2K\u001b[18A\u001b[2K\u001b[15A\u001b[2K\u001b[15A\u001b[2K\u001b[18A\u001b[2K\u001b[15A\u001b[2K\u001b[15A\u001b[2K\u001b[16A\u001b[2K\u001b[15A\u001b[2K\u001b[18A\u001b[2K\u001b[15A\u001b[2K\u001b[15A\u001b[2K\u001b[15A\u001b[2K\u001b[15A\u001b[2K\u001b[15A\u001b[2K\u001b[15A\u001b[2K\u001b[18A\u001b[2K\u001b[15A\u001b[2K\u001b[15A\u001b[2K\u001b[18A\u001b[2K\u001b[15A\u001b[2K\u001b[15A\u001b[2K\u001b[16A\u001b[2K\u001b[18A\u001b[2K\u001b[15A\u001b[2K\u001b[18A\u001b[2K\u001b[15A\u001b[2K\u001b[15A\u001b[2KDownloading  85.58MB/197MB\u001b[15A\u001b[2K\u001b[15A\u001b[2K\u001b[18A\u001b[2K\u001b[15A\u001b[2K\u001b[15A\u001b[2K\u001b[16A\u001b[2K\u001b[15A\u001b[2K\u001b[18A\u001b[2K\u001b[15A\u001b[2K\u001b[15A\u001b[2KDownloading  102.8MB/197MB\u001b[18A\u001b[2K\u001b[15A\u001b[2K\u001b[15A\u001b[2K\u001b[15A\u001b[2K\u001b[15A\u001b[2K\u001b[15A\u001b[2K\u001b[18A\u001b[2K\u001b[15A\u001b[2K\u001b[16A\u001b[2K\u001b[18A\u001b[2K\u001b[15A\u001b[2K\u001b[15A\u001b[2K\u001b[18A\u001b[2K\u001b[15A\u001b[2K\u001b[16A\u001b[2K\u001b[15A\u001b[2K\u001b[18A\u001b[2K\u001b[18A\u001b[2K\u001b[18A\u001b[2K\u001b[16A\u001b[2K\u001b[18A\u001b[2K\u001b[15A\u001b[2K\u001b[15A\u001b[2K\u001b[16A\u001b[2K\u001b[15A\u001b[2K\u001b[18A\u001b[2K\u001b[15A\u001b[2K\u001b[18A\u001b[2K\u001b[15A\u001b[2K\u001b[18A\u001b[2K\u001b[15A\u001b[2K\u001b[18A\u001b[2K\u001b[14A\u001b[2K\u001b[18A\u001b[2K\u001b[14A\u001b[2K\u001b[18A\u001b[2K\u001b[16A\u001b[2K\u001b[15A\u001b[2K\u001b[14A\u001b[2K\u001b[18A\u001b[2K\u001b[15A\u001b[2K\u001b[15A\u001b[2K\u001b[18A\u001b[2K\u001b[18A\u001b[2K\u001b[17A\u001b[2K\u001b[16A\u001b[2K\u001b[17A\u001b[2K\u001b[17A\u001b[2K\u001b[15A\u001b[2K\u001b[16A\u001b[2K\u001b[15A\u001b[2K\u001b[13A\u001b[2K\u001b[15A\u001b[2K\u001b[16A\u001b[2K\u001b[15A\u001b[2K\u001b[15A\u001b[2K\u001b[13A\u001b[2K\u001b[13A\u001b[2K\u001b[15A\u001b[2K\u001b[13A\u001b[2K\u001b[15A\u001b[2K\u001b[16A\u001b[2K\u001b[13A\u001b[2K\u001b[15A\u001b[2K\u001b[13A\u001b[2K\u001b[15A\u001b[2K\u001b[13A\u001b[2K\u001b[15A\u001b[2K\u001b[13A\u001b[2K\u001b[16A\u001b[2K\u001b[15A\u001b[2K\u001b[15A\u001b[2K\u001b[15A\u001b[2K\u001b[16A\u001b[2K\u001b[15A\u001b[2K\u001b[15A\u001b[2K\u001b[12A\u001b[2K\u001b[15A\u001b[2K\u001b[15A\u001b[2K\u001b[16A\u001b[2K\u001b[15A\u001b[2K\u001b[15A\u001b[2K\u001b[15A\u001b[2K\u001b[16A\u001b[2K\u001b[11A\u001b[2K\u001b[11A\u001b[2K\u001b[16A\u001b[2K\u001b[16A\u001b[2K\u001b[16A\u001b[2K\u001b[10A\u001b[2K\u001b[16A\u001b[2K\u001b[16A\u001b[2K\u001b[16A\u001b[2K\u001b[16A\u001b[2K\u001b[16A\u001b[2K\u001b[9A\u001b[2K\u001b[16A\u001b[2K\u001b[9A\u001b[2K\u001b[16A\u001b[2K\u001b[16A\u001b[2K\u001b[16A\u001b[2K\u001b[16A\u001b[2K\u001b[16A\u001b[2K\u001b[16A\u001b[2K\u001b[9A\u001b[2K\u001b[16A\u001b[2K\u001b[9A\u001b[2K\u001b[9A\u001b[2K\u001b[16A\u001b[2K\u001b[16A\u001b[2K\u001b[16A\u001b[2K\u001b[16A\u001b[2K\u001b[7A\u001b[2K\u001b[6A\u001b[2K\u001b[7A\u001b[2K\u001b[7A\u001b[2K\u001b[16A\u001b[2K\u001b[16A\u001b[2K\u001b[16A\u001b[2K\u001b[7A\u001b[2K\u001b[15A\u001b[2K\u001b[7A\u001b[2K\u001b[15A\u001b[2K\u001b[15A\u001b[2K\u001b[5A\u001b[2K\u001b[7A\u001b[2K\u001b[7A\u001b[2K\u001b[7A\u001b[2K\u001b[15A\u001b[2K\u001b[7A\u001b[2K\u001b[15A\u001b[2K\u001b[7A\u001b[2K\u001b[15A\u001b[2K\u001b[7A\u001b[2K\u001b[15A\u001b[2K\u001b[7A\u001b[2K\u001b[7A\u001b[2K\u001b[7A\u001b[2K\u001b[7A\u001b[2K\u001b[7A\u001b[2K\u001b[15A\u001b[2K\u001b[2A\u001b[2K\u001b[15A\u001b[2K\u001b[15A\u001b[2K\u001b[7A\u001b[2K\u001b[15A\u001b[2K\u001b[7A\u001b[2K\u001b[15A\u001b[2K\u001b[7A\u001b[2K\u001b[15A\u001b[2K\u001b[7A\u001b[2K\u001b[15A\u001b[2K\u001b[15A\u001b[2K\u001b[15A\u001b[2K\u001b[15A\u001b[2K\u001b[15A\u001b[2K\u001b[7A\u001b[2K\u001b[15A\u001b[2K\u001b[7A\u001b[2K\u001b[15A\u001b[2K\u001b[7A\u001b[2K\u001b[15A\u001b[2K\u001b[7A\u001b[2K\u001b[15A\u001b[2K\u001b[7A\u001b[2K\u001b[15A\u001b[2K\u001b[7A\u001b[2K\u001b[15A\u001b[2K\u001b[7A\u001b[2K\u001b[15A\u001b[2K\u001b[7A\u001b[2K\u001b[7A\u001b[2K\u001b[15A\u001b[2K\u001b[7A\u001b[2K\u001b[15A\u001b[2K\u001b[7A\u001b[2K\u001b[15A\u001b[2K\u001b[7A\u001b[2K\u001b[7A\u001b[2K\u001b[7A\u001b[2K\u001b[15A\u001b[2K\u001b[14A\u001b[2K\u001b[7A\u001b[2K\u001b[14A\u001b[2K\u001b[13A\u001b[2K\u001b[13A\u001b[2K\u001b[13A\u001b[2K\u001b[13A\u001b[2K\u001b[7A\u001b[2K\u001b[11A\u001b[2K\u001b[11A\u001b[2K\u001b[9A\u001b[2K\u001b[7A\u001b[2K\u001b[9A\u001b[2K\u001b[9A\u001b[2K\u001b[7A\u001b[2K\u001b[9A\u001b[2K\u001b[7A\u001b[2K\u001b[7A\u001b[2K\u001b[7A\u001b[2K\u001b[7A\u001b[2K\u001b[7A\u001b[2K\u001b[7A\u001b[2K\u001b[7A\u001b[2K\u001b[7A\u001b[2K\u001b[7A\u001b[2K\u001b[7A\u001b[2K\u001b[7A\u001b[2K\u001b[7A\u001b[2K\u001b[7A\u001b[2K\u001b[7A\u001b[2K\u001b[7A\u001b[2K\u001b[7A\u001b[2K\u001b[7A\u001b[2K\u001b[7A\u001b[2K\u001b[7A\u001b[2K\u001b[7A\u001b[2K\u001b[7A\u001b[2K\u001b[7A\u001b[2K\u001b[7A\u001b[2K\u001b[7A\u001b[2KDownloading  175.8MB/310.7MB\u001b[7A\u001b[2K\u001b[7A\u001b[2K\u001b[7A\u001b[2K\u001b[7A\u001b[2K\u001b[7A\u001b[2K\u001b[7A\u001b[2K\u001b[7A\u001b[2K\u001b[7A\u001b[2K\u001b[7A\u001b[2K\u001b[7A\u001b[2K\u001b[7A\u001b[2K\u001b[7A\u001b[2K\u001b[7A\u001b[2K\u001b[7A\u001b[2K\u001b[7A\u001b[2K\u001b[7A\u001b[2K\u001b[7A\u001b[2K\u001b[7A\u001b[2K\u001b[7A\u001b[2K\u001b[7A\u001b[2K\u001b[7A\u001b[2KDownloading  219.3MB/310.7MB\u001b[7A\u001b[2K\u001b[7A\u001b[2K\u001b[7A\u001b[2K\u001b[7A\u001b[2K\u001b[7A\u001b[2K\u001b[7A\u001b[2K\u001b[7A\u001b[2K\u001b[7A\u001b[2K\u001b[7A\u001b[2K\u001b[7A\u001b[2K\u001b[7A\u001b[2K\u001b[7A\u001b[2K\u001b[7A\u001b[2K\u001b[7A\u001b[2K\u001b[7A\u001b[2K\u001b[7A\u001b[2K\u001b[7A\u001b[2K\u001b[7A\u001b[2K\u001b[7A\u001b[2K\u001b[7A\u001b[2K\u001b[7A\u001b[2K\u001b[7A\u001b[2K\u001b[7A\u001b[2K\u001b[7A\u001b[2K\u001b[7A\u001b[2K\u001b[7A\u001b[2K\u001b[7A\u001b[2K\u001b[7A\u001b[2K\u001b[7A\u001b[2K\u001b[7A\u001b[2K\u001b[7A\u001b[2K\u001b[7A\u001b[2K\u001b[7A\u001b[2K\u001b[7A\u001b[2K\u001b[7A\u001b[2K\u001b[7A\u001b[2K\u001b[7A\u001b[2K\u001b[7A\u001b[2K\u001b[7A\u001b[2K\u001b[7A\u001b[2K\u001b[7A\u001b[2K\u001b[7A\u001b[2K\u001b[7A\u001b[2K\u001b[7A\u001b[2K\u001b[7A\u001b[2K\u001b[7A\u001b[2K\u001b[7A\u001b[2K\u001b[7A\u001b[2K\u001b[7A\u001b[2K\u001b[7A\u001b[2K\u001b[7A\u001b[2K\u001b[7A\u001b[2K\u001b[7A\u001b[2K\u001b[7A\u001b[2K\u001b[7A\u001b[2K\u001b[7A\u001b[2K\u001b[7A\u001b[2K\u001b[7A\u001b[2K\u001b[7A\u001b[2K\u001b[7A\u001b[2K\u001b[7A\u001b[2K\u001b[7A\u001b[2K\u001b[7A\u001b[2K\u001b[7A\u001b[2K\u001b[7A\u001b[2K\u001b[7A\u001b[2K\u001b[7A\u001b[2KExtracting  113.1MB/310.7MB\u001b[7A\u001b[2K\u001b[7A\u001b[2K\u001b[7A\u001b[2K\u001b[7A\u001b[2K\u001b[7A\u001b[2K\u001b[7A\u001b[2K\u001b[7A\u001b[2K\u001b[7A\u001b[2K\u001b[7A\u001b[2K\u001b[7A\u001b[2K\u001b[7A\u001b[2K\u001b[7A\u001b[2K\u001b[7A\u001b[2K\u001b[7A\u001b[2K\u001b[7A\u001b[2K\u001b[7A\u001b[2K\u001b[7A\u001b[2K\u001b[7A\u001b[2K\u001b[7A\u001b[2K\u001b[7A\u001b[2K\u001b[7A\u001b[2K\u001b[7A\u001b[2K\u001b[7A\u001b[2K\u001b[7A\u001b[2K\u001b[7A\u001b[2K\u001b[7A\u001b[2K\u001b[7A\u001b[2K\u001b[7A\u001b[2K\u001b[7A\u001b[2K\u001b[7A\u001b[2K\u001b[7A\u001b[2K\u001b[7A\u001b[2K\u001b[7A\u001b[2K\u001b[7A\u001b[2K\u001b[7A\u001b[2K\u001b[7A\u001b[2K\u001b[7A\u001b[2K\u001b[7A\u001b[2K\u001b[7A\u001b[2K\u001b[7A\u001b[2KExtracting  305.8MB/310.7MB\u001b[7A\u001b[2K\u001b[7A\u001b[2K\u001b[7A\u001b[2K\u001b[4A\u001b[2K\n",
      "Status: Downloaded newer image for potato55/hydromt:vienna\n",
      "docker.io/potato55/hydromt:vienna\n",
      "\n",
      "\u001b[1mWhat's Next?\n",
      "\u001b[0m  View summary of image vulnerabilities and recommendations → \u001b[36mdocker scout quickview potato55/hydromt:vienna\u001b[0m\n",
      "\u001b[1;30mINFO\u001b[0m [job update-config] /private/tmp/docker_tmplkmx4uw7$ docker \\\n",
      "    run \\\n",
      "    -i \\\n",
      "    --mount=type=bind,source=/private/tmp/docker_tmplkmx4uw7,target=/hydromt \\\n",
      "    --mount=type=bind,source=/private/tmp/docker_tmpej2bqf4h,target=/tmp \\\n",
      "    --workdir=/hydromt \\\n",
      "    --user=501:20 \\\n",
      "    --rm \\\n",
      "    --cidfile=/private/tmp/docker_tmpow1maqf6/20240611165651-227068.cid \\\n",
      "    --env=TMPDIR=/tmp \\\n",
      "    --env=HOME=/hydromt \\\n",
      "    potato55/hydromt:vienna \\\n",
      "    update \\\n",
      "    0.00899999 \\\n",
      "    cerra_land_stac\n",
      "WARNING: The requested image's platform (linux/amd64) does not match the detected host platform (linux/arm64/v8) and no specific platform was requested\n",
      "res: 0.00899999\n",
      "precip_fn: cerra_land_stac\n",
      "Running config_gen.py\n",
      "2024-06-11 14:56:52 - __main__ - INFO - Parser setup complete.\n",
      "2024-06-11 14:56:52 - __main__ - INFO - Set permissions for /hydromt to 777\n",
      "2024-06-11 14:56:52 - __main__ - INFO - Contents of config file: {'setup_config': {'starttime': '2001-01-01T00:00:00', 'endtime': '2001-03-31T00:00:00', 'timestepsec': 86400, 'input.path_forcing': 'forcings.nc'}, 'setup_basemaps': {'hydrography_fn': 'merit_hydro', 'basin_index_fn': 'merit_hydro_index', 'upscale_method': 'ihu', 'res': 0.00899999}, 'setup_rivers': {'hydrography_fn': 'merit_hydro', 'river_geom_fn': 'rivers_lin2019', 'river_upa': 30, 'rivdph_method': 'powlaw', 'min_rivdph': 1, 'min_rivwth': 30, 'slope_len': 2000, 'smooth_len': 5000}, 'setup_lakes': {'lakes_fn': 'hydrolakes_v10', 'min_area': 2.0}, 'setup_reservoirs': {'reservoirs_fn': 'grand_v1.3', 'timeseries_fn': 'gww', 'min_area': 0.5}, 'setup_glaciers': {'glaciers_fn': 'rgi60_global', 'min_area': 1.0}, 'setup_gauges': {'gauges_fn': 'ado_gauges', 'index_col': 'id', 'snap_to_river': 'True', 'derive_subcatch': 'False'}, 'setup_lulcmaps': {'lulc_fn': 'corine_2012', 'lulc_mapping_fn': 'corine_mapping'}, 'setup_laimaps': {'lai_fn': 'modis_lai_v061'}, 'setup_soilmaps': {'soil_fn': 'soilgrids_2020', 'ptf_ksatver': 'brakensiek'}, 'setup_precip_forcing': {'precip_fn': 'cerra_land_stac', 'precip_clim_fn': 'None', 'chunksize': 1}, 'setup_temp_pet_forcing': {'temp_pet_fn': 'cerra_stac', 'kin_fn': 'cerra_land_stac', 'press_correction': 'True', 'temp_correction': 'True', 'wind_correction': 'False', 'dem_forcing_fn': 'cerra_orography', 'pet_method': 'makkink', 'skip_pet': 'False', 'chunksize': 1}, 'setup_constant_pars': {'KsatHorFrac': 100, 'Cfmax': 3.75653, 'cf_soil': 0.038, 'EoverR': 0.11, 'InfiltCapPath': 5, 'InfiltCapSoil': 600, 'MaxLeakage': 0, 'rootdistpar': -500, 'TT': 0, 'TTI': 2, 'TTM': 0, 'WHC': 0.1, 'G_Cfmax': 5.3, 'G_SIfrac': 0.002, 'G_TT': 1.3}}\n",
      "2024-06-11 14:56:52 - __main__ - INFO - Config file written to path: /hydromt/wflow.ini)]\n",
      "2024-06-11 14:56:52 - __main__ - INFO - CONFIG UPDATE STEP COMPLETE. WOOHOO!\n",
      "Finished running config_gen.py\n",
      "New config values: 0.00899999, cerra_land_stac\n",
      "\u001b[1;30mINFO\u001b[0m [job update-config] Max memory used: 0MiB\n",
      "\u001b[1;30mINFO\u001b[0m [job update-config] completed success\n",
      "\u001b[1;30mINFO\u001b[0m [step update-config] completed success\n",
      "\u001b[1;30mINFO\u001b[0m [workflow ] starting step build-hydromt\n",
      "\u001b[1;30mINFO\u001b[0m [step build-hydromt] start\n",
      "\u001b[1;30mERROR\u001b[0m \u001b[31mGot workflow error\u001b[0m\n",
      "Traceback (most recent call last):\n",
      "  File \"/Users/jzvolensky/projects/EURAC/Itwin-tech-meeting/.venv/lib/python3.12/site-packages/cwltool/executors.py\", line 254, in run_jobs\n",
      "    job.run(runtime_context)\n",
      "  File \"/Users/jzvolensky/projects/EURAC/Itwin-tech-meeting/.venv/lib/python3.12/site-packages/cwltool/job.py\", line 829, in run\n",
      "    (runtime, cidfile) = self.create_runtime(env, runtimeContext)\n",
      "                         ^^^^^^^^^^^^^^^^^^^^^^^^^^^^^^^^^^^^^^^^\n",
      "  File \"/Users/jzvolensky/projects/EURAC/Itwin-tech-meeting/.venv/lib/python3.12/site-packages/cwltool/docker.py\", line 338, in create_runtime\n",
      "    self.add_volumes(\n",
      "  File \"/Users/jzvolensky/projects/EURAC/Itwin-tech-meeting/.venv/lib/python3.12/site-packages/cwltool/job.py\", line 727, in add_volumes\n",
      "    self.add_file_or_directory_volume(runtime, vol, host_outdir_tgt)\n",
      "  File \"/Users/jzvolensky/projects/EURAC/Itwin-tech-meeting/.venv/lib/python3.12/site-packages/cwltool/docker.py\", line 241, in add_file_or_directory_volume\n",
      "    self.append_volume(runtime, volume.resolved, volume.target)\n",
      "  File \"/Users/jzvolensky/projects/EURAC/Itwin-tech-meeting/.venv/lib/python3.12/site-packages/cwltool/docker.py\", line 233, in append_volume\n",
      "    os.makedirs(source)\n",
      "  File \"<frozen os>\", line 215, in makedirs\n",
      "  File \"<frozen os>\", line 215, in makedirs\n",
      "  File \"<frozen os>\", line 215, in makedirs\n",
      "  File \"<frozen os>\", line 225, in makedirs\n",
      "OSError: [Errno 30] Read-only file system: '/mnt'\n",
      "\u001b[1;30mERROR\u001b[0m \u001b[31mWorkflow error, try again with --debug for more information:\n",
      "[Errno 30] Read-only file system: '/mnt'\u001b[0m\n"
     ]
    }
   ],
   "source": [
    "!cwltool --verbose --no-read-only --outdir ./hydromt-output ./example/hydromt/cwl/hydromt-build-workflow.cwl#hydromt-workflow ./example/hydromt/cwl/params.yaml"
   ]
  },
  {
   "cell_type": "markdown",
   "metadata": {},
   "source": []
  },
  {
   "cell_type": "code",
   "execution_count": null,
   "metadata": {
    "vscode": {
     "languageId": "shellscript"
    }
   },
   "outputs": [],
   "source": [
    "!cwltool --outdir ./wflow-output --no-read-only --no-match-user ./example/wflow/cwl/wflow-run.cwl#run-wflow params-wflow.yaml"
   ]
  }
 ],
 "metadata": {
  "kernelspec": {
   "display_name": "itwintechcwl",
   "language": "python",
   "name": "python3"
  },
  "language_info": {
   "codemirror_mode": {
    "name": "ipython",
    "version": 3
   },
   "file_extension": ".py",
   "mimetype": "text/x-python",
   "name": "python",
   "nbconvert_exporter": "python",
   "pygments_lexer": "ipython3",
   "version": "3.12.3"
  }
 },
 "nbformat": 4,
 "nbformat_minor": 2
}
