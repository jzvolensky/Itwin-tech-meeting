{
 "cells": [
  {
   "cell_type": "markdown",
   "metadata": {},
   "source": [
    "# InterTwin 4th Technical Meeting\n",
    "\n",
    "13/06/2024, Vienna, AT\n",
    "\n",
    "### WP6: Example CWL workflow execution\n",
    "\n",
    "This notebook demonstrates how to execute a CWL workflow using the `cwltool` command line tool. The notebook showcases all of the different parts which make up the OGC Application Package to execute a CWL workflow.\n",
    "\n",
    "This notebook is showcasing the drought forecasting use case from the InterTwin project. This Application Package is based on `HydroMT` developed by Deltares.\n",
    "\n",
    "#### Table of Contents\n",
    "\n",
    "1. [Section 1: Dependencies](#section-1-dependencies)\n",
    "2. [Section 2: Dockerfile](#section-2-packaging-necessary-files)\n",
    "3. [Section 3: OGC Application Package](#section-3-ogc-application-package)"
   ]
  },
  {
   "cell_type": "markdown",
   "metadata": {},
   "source": [
    "#### Section 1: Dependencies\n",
    "\n",
    "Local development and  execution specific dependencies:\n",
    "\n",
    "- `cwltool` - A reference implementation of the Common Workflow Language.\n",
    "- `docker` - A tool designed to make it easier to create, deploy, and run applications by using containers.\n",
    "- `conda` - An open-source package management system and environment management system that runs on Windows, macOS, and Linux.\n",
    "\n",
    "Clone this repository:\n",
    "\n",
    "```bash\n",
    "git clone https://github.com/jzvolensky/Itwin-tech-meeting.git\n",
    "```\n",
    "\n",
    "Install the conda environment:\n",
    "\n",
    "```bash\n",
    "conda env create -f environment.yml\n",
    "```\n",
    "\n",
    "Activate the conda environment:\n",
    "\n",
    "```bash\n",
    "conda activate itwin-tech-meeting\n",
    "```\n"
   ]
  },
  {
   "cell_type": "markdown",
   "metadata": {},
   "source": [
    "#### Section 2: Packaging Necessary files\n",
    "\n",
    "There are several files which we need to include in our Docker image so that during the execution of the CWL workflow, the necessary files are available. These can be found in the `/example` directory.\n",
    "\n",
    "\n",
    "`data_catalog.yaml` - This file contains the metadata for the input data files. This file is used by the `HydroMT` package to read the input data files.\n",
    "`wflow.ini` - Configuration file for the `HydroMT` package.\n",
    "`requirements.txt` - Python package requirements for the `HydroMT` package.\n",
    "`build.sh` - A shell script to build the `HydroMT` model.\n",
    "`config_gen.py` - A Python script to generate the configuration file for the `HydroMT` model based on workflow inputs.\n",
    "\n",
    "Docker Image Structure:\n",
    "\n",
    "```bash\n",
    "/hydromt\n",
    "    /requirements.txt\n",
    "    /wflow.ini\n",
    "    /data_catalog.yaml\n",
    "    /config_gen.py\n",
    "    /output/\n",
    "    /data/\n",
    "```\n",
    "\n",
    "The resulting Docker image is published on DockerHub.\n",
    "\n",
    "If you want to build and publish it yourself, you can use the following command:\n",
    "\n",
    "```bash\n",
    "docker login\n",
    "docker build -t image_name .\n",
    "docker tag image_name username/image_name:tag\n",
    "docker push username/image_name:tag\n",
    "```\n",
    "\n"
   ]
  },
  {
   "cell_type": "code",
   "execution_count": null,
   "metadata": {},
   "outputs": [],
   "source": [
    "!docker login"
   ]
  },
  {
   "cell_type": "code",
   "execution_count": null,
   "metadata": {},
   "outputs": [],
   "source": [
    "!docker build -t hydromt . "
   ]
  },
  {
   "cell_type": "code",
   "execution_count": null,
   "metadata": {},
   "outputs": [],
   "source": [
    "!docker tag hydromt:latest potato55/hydromt:vienna"
   ]
  },
  {
   "cell_type": "code",
   "execution_count": null,
   "metadata": {},
   "outputs": [],
   "source": [
    "!docker push potato55/hydromt:vienna"
   ]
  },
  {
   "cell_type": "markdown",
   "metadata": {},
   "source": [
    "#### Section 3: OGC Application Package\n",
    "\n",
    "In the `/example/cwl` directory, you will find the CWL workflows necessary to execute `HydroMT`. The directory contains three files:\n",
    "\n",
    "`hydromt-build.cwl` - This CWL workflow builds the `HydroMT` model.\n",
    "`update_config.cwl` - This is a subworkflow which updates the configuration file for the `HydroMT` model before it is built.\n",
    "`params.yaml` - This file contains the input parameters for the CWL workflow.\n",
    "\n",
    "To execute the CWL workflow, you can use the following command:\n",
    "\n",
    "```bash\n",
    "cwltool --verbose --force-docker-pull --no-read-only --outdir ./hydromt-output hydromt-build.cwl#hydromt-build params.yaml\n",
    "```\n",
    "\n",
    "There are several flags which are used in the command:\n",
    "\n",
    "- `--verbose` - This flag outputs more information about the execution of the CWL workflow.\n",
    "- `--force-docker-pull` - This flag forces the Docker image to be pulled from the DockerHub repository. (This is not always necessary, we just want the latest version).\n",
    "- `--no-read-only` - This flag ensures that the Docker container is not read-only (Although this is not always the case).\n",
    "- `--outdir` - This flag specifies the output directory for the CWL workflow on our local machine.\n",
    "\n",
    "The CWL is also defined as `hydromt-build.cwl#hydromt-build` which specifies the CWL workflow to execute. The `params.yaml` file contains the input parameters for the CWL workflow.\n",
    "\n",
    "Try it out below!"
   ]
  },
  {
   "cell_type": "code",
   "execution_count": null,
   "metadata": {
    "vscode": {
     "languageId": "shellscript"
    }
   },
   "outputs": [],
   "source": [
    "!cwltool --verbose --no-read-only --force-docker-pull --outdir ./hydromt-output ./example/hydromt/cwl/hydromt-build-workflow.cwl#hydromt-workflow ./example/hydromt/cwl/params.yaml"
   ]
  },
  {
   "cell_type": "markdown",
   "metadata": {},
   "source": [
    "### WIP WFLOW\n",
    "Currently not working :("
   ]
  },
  {
   "cell_type": "code",
   "execution_count": null,
   "metadata": {
    "vscode": {
     "languageId": "shellscript"
    }
   },
   "outputs": [],
   "source": [
    "!cwltool --outdir ./wflow-output --no-read-only --no-match-user ./example/wflow/cwl/wflow-run.cwl#run-wflow ./example/wflow/cwl/params-wflow.yaml"
   ]
  }
 ],
 "metadata": {
  "kernelspec": {
   "display_name": "itwintechcwl",
   "language": "python",
   "name": "python3"
  },
  "language_info": {
   "codemirror_mode": {
    "name": "ipython",
    "version": 3
   },
   "file_extension": ".py",
   "mimetype": "text/x-python",
   "name": "python",
   "nbconvert_exporter": "python",
   "pygments_lexer": "ipython3",
   "version": "3.11.9"
  }
 },
 "nbformat": 4,
 "nbformat_minor": 2
}
